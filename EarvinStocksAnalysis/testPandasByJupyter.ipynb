{
 "cells": [
  {
   "cell_type": "code",
   "execution_count": null,
   "id": "e6142a3a",
   "metadata": {},
   "outputs": [],
   "source": [
    "import pandas as pd\n",
    "import numpy as np\n",
    "import matplotlib.pyplot as plt\n",
    "%matplotlib inline\n",
    "\n",
    "from modules.db import stocksData as sd\n",
    "from modules.indexes import indexesModule as im\n",
    "from modules.prediction import stocksPrediction as sp"
   ]
  },
  {
   "cell_type": "code",
   "execution_count": null,
   "id": "00d6bab0",
   "metadata": {},
   "outputs": [],
   "source": [
    "theStockData = sd.getStocksData(\"0056\")\n",
    "for r in theStockData :\n",
    "    print(r)\n",
    "print(len(theStockData))"
   ]
  },
  {
   "cell_type": "code",
   "execution_count": null,
   "id": "c5c23853",
   "metadata": {},
   "outputs": [],
   "source": [
    "s = pd.Series(theStockData.end_price)\n",
    "s"
   ]
  },
  {
   "cell_type": "code",
   "execution_count": null,
   "id": "d9648718",
   "metadata": {},
   "outputs": [],
   "source": [
    "s = pd.Series(theStockData.end_price)\n",
    "s.mean()"
   ]
  },
  {
   "cell_type": "code",
   "execution_count": null,
   "id": "1c73c7e3",
   "metadata": {},
   "outputs": [],
   "source": [
    "ll = list(theStockData.end_price)\n",
    "ll"
   ]
  },
  {
   "cell_type": "code",
   "execution_count": null,
   "id": "60bf02b9",
   "metadata": {},
   "outputs": [],
   "source": [
    "# create a Series who's index is a series of dates\n",
    "dates = pd.date_range('2016-04-01', '2016-04-03')\n",
    "dates"
   ]
  },
  {
   "cell_type": "code",
   "execution_count": null,
   "id": "c90c3496",
   "metadata": {},
   "outputs": [],
   "source": [
    "a = list(theStockData.end_price)\n",
    "b = a[0:4]\n",
    "b"
   ]
  },
  {
   "cell_type": "code",
   "execution_count": null,
   "id": "775a6042",
   "metadata": {},
   "outputs": [],
   "source": [
    "print(max(b),min(b))"
   ]
  },
  {
   "cell_type": "code",
   "execution_count": null,
   "id": "136812b2",
   "metadata": {},
   "outputs": [],
   "source": [
    "\"\"\" Test Dictory Usage \"\"\"\n",
    "lstK = [1,2,3]\n",
    "lstD = [4,5,6]\n",
    "theRst = {\"K\" : lstK, \"D\" : lstD}\n",
    "print(theRst)"
   ]
  },
  {
   "cell_type": "code",
   "execution_count": null,
   "id": "3a91cdc9",
   "metadata": {},
   "outputs": [],
   "source": [
    "indDay = 5\n",
    "i = 4\n",
    "a = list(theStockData.end_price)\n",
    "print(a[(i-indDay+1):(i+1)])\n",
    "print(max(a[(i-indDay+1):(i+1)]))\n",
    "print(min(a[(i-indDay+1):(i+1)]))"
   ]
  },
  {
   "cell_type": "code",
   "execution_count": null,
   "id": "cd14f517",
   "metadata": {},
   "outputs": [],
   "source": [
    "a = [1,2,3,4,5,6]\n",
    "np.mean(a[2:5])"
   ]
  },
  {
   "cell_type": "code",
   "execution_count": null,
   "id": "3f0f4c31",
   "metadata": {},
   "outputs": [],
   "source": [
    "#s = [25.15,25.43,25.6,26.04,25.75,25.4]\n",
    "\n",
    "def indexWRSI(sd, indDay) :\n",
    "    print(\"== In WRSI method ==\")\n",
    "    sdEndPrice = list(sd.end_price)\n",
    "    rtnData = []\n",
    "    i = 1   # 2nd start\n",
    "    prevUp = 0\n",
    "    prevDown = 0\n",
    "    theWRSI = 50\n",
    "    rtnData.append(theWRSI)\n",
    "\n",
    "    while i < len(sdEndPrice) :\n",
    "        curUp = 0\n",
    "        curDown = 0\n",
    "        diffValue = sdEndPrice[i] - sdEndPrice[i-1]\n",
    "        if diffValue > 0 :\n",
    "            curUp = diffValue\n",
    "        else :\n",
    "            curDown = abs(diffValue)\n",
    "        \n",
    "        if i < (indDay - 1) :\n",
    "            curUp = (i / (i + 1)) * prevUp + (1 / (i + 1)) * curUp\n",
    "            curDown = (i / (i + 1)) * prevDown + (1 / (i + 1)) * curDown\n",
    "        else :\n",
    "            curUp = (indDay - 1)/indDay * prevUp + (1 / indDay) * curUp\n",
    "            curDown = (indDay - 1)/indDay * prevDown + (1 / indDay) * curDown\n",
    "\n",
    "        print(\"i=\", i, prevUp, curUp, prevDown, curDown)\n",
    "        \n",
    "        if i > 0 and (curUp + curDown) != 0 :\n",
    "            theWRSI = curUp / (curUp + curDown) *100\n",
    "        else :\n",
    "            theWRSI = 50\n",
    "\n",
    "        rtnData.append(theWRSI)\n",
    "        i += 1\n",
    "    \n",
    "    return pd.Series(rtnData, index=sd.trade_date)\n"
   ]
  },
  {
   "cell_type": "code",
   "execution_count": null,
   "id": "6c39bbec",
   "metadata": {},
   "outputs": [],
   "source": [
    "ss = theStockData[0:6]\n",
    "ss"
   ]
  },
  {
   "cell_type": "code",
   "execution_count": null,
   "id": "383fdcfc",
   "metadata": {},
   "outputs": [],
   "source": [
    "theIndValues = im.indexWRSI(ss, 3)\n",
    "print(theIndValues)"
   ]
  },
  {
   "cell_type": "code",
   "execution_count": null,
   "id": "bb16ad0b",
   "metadata": {},
   "outputs": [],
   "source": [
    "indDay = 5\n",
    "i = 5\n",
    "for i in range(i, (i-(indDay)),-1) :\n",
    "    print(i)"
   ]
  },
  {
   "cell_type": "code",
   "execution_count": null,
   "id": "d1ce77c4",
   "metadata": {},
   "outputs": [],
   "source": [
    "i = 4\n",
    "for i in range(i, 0,-1) :\n",
    "    print(i)"
   ]
  },
  {
   "cell_type": "code",
   "execution_count": null,
   "id": "24cab7e8",
   "metadata": {},
   "outputs": [],
   "source": [
    "# 2023.07.17 Created #\n",
    "ss = theStockData[0:10]\n",
    "theIndValues = im.indexWRSI(ss, 3)\n",
    "#print(theIndValues)\n",
    "print(theIndValues.index)"
   ]
  },
  {
   "cell_type": "code",
   "execution_count": null,
   "id": "d881f976",
   "metadata": {},
   "outputs": [],
   "source": [
    "s = im.indexBIAS(theStockData, 10)\n",
    "index_of_max = s.idxmax() # index value\n",
    "print(index_of_max)\n",
    "print(s[index_of_max])\n",
    "index_of_min = s.idxmin()\n",
    "print(s[index_of_min])\n",
    "print(s.max())\n",
    "print(s.min())"
   ]
  },
  {
   "cell_type": "code",
   "execution_count": null,
   "id": "0f1a49e2",
   "metadata": {},
   "outputs": [],
   "source": [
    "theCompV1 = im.indexMAP(theStockData, 20)\n",
    "theCompV2 = im.indexMAP(theStockData, 60)\n",
    "theSectors = sp.splitSector(theCompV1, theCompV2)\n",
    "print(theSectors)\n"
   ]
  },
  {
   "cell_type": "code",
   "execution_count": null,
   "id": "94289a5c",
   "metadata": {},
   "outputs": [],
   "source": [
    "preValue = theSectors[0]\n",
    "preValue\n",
    "#len(theSectors)"
   ]
  },
  {
   "cell_type": "code",
   "execution_count": null,
   "id": "f912277e",
   "metadata": {},
   "outputs": [],
   "source": []
  }
 ],
 "metadata": {
  "kernelspec": {
   "display_name": "Python 3 (ipykernel)",
   "language": "python",
   "name": "python3"
  },
  "language_info": {
   "codemirror_mode": {
    "name": "ipython",
    "version": 3
   },
   "file_extension": ".py",
   "mimetype": "text/x-python",
   "name": "python",
   "nbconvert_exporter": "python",
   "pygments_lexer": "ipython3",
   "version": "3.9.13"
  }
 },
 "nbformat": 4,
 "nbformat_minor": 5
}
